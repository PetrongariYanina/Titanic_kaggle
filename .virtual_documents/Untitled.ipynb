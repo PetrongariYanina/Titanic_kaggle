import pandas as pd
import seaborn as sns
import matplotlib.pyplot as pltb


df = pd.read_csv('Dataset/train.csv')
df.head()


df.describe()


df.info()


df = df.drop_duplicates()
df.describe(include=['object'])


df.head()


df['Sex'] = df['Sex'].map({'female':1, 'male':0}).astype(int)
df['Sex'].head()
