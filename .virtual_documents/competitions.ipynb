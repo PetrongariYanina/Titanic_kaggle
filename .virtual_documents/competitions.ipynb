import pandas as pd
import seaborn as sns
import matplotlib.pyplot as plt
import numpy as np


df = pd.read_csv('Dataset/train.csv')
df.head()


df.describe()


df.info()


df = df.drop_duplicates()
df.describe(include=['object'])


df.head()


df['Sex'] = df['Sex'].map({'female':1, 'male':0}).astype(int)
df['Sex'].head()


numeric_columns = df.select_dtypes(include=['number'])

corr= numeric_columns.corr()

sns.heatmap(corr, annot=True, cmap='coolwarm',fmt='.1f')


from sklearn.linear_model import LinearRegression


train_data = df.dropna(subset=['Age'])
X_train = train_data[['Pclass']] 
y_train = train_data['Age'] 


model = LinearRegression()
model.fit(X_train, y_train)


missing_data = df[df['Age'].isna()]
X_missing = missing_data[['Pclass']]
df.loc[df['Age'].isna(), 'Age'] = model.predict(X_missing)


df.info()


df_encoding = pd.get_dummies(df, columns=['Embarked'], drop_first=True, dtype='int')
print(df_encoding.info())





figure = plt.subplots(figsize = (5, 5))

ax= sns.histplot(data=df_encoding, x='Survived', hue='Sex', multiple='dodge')
ax.legend(title='Género', labels=['femenino', 'masculino'])
ax.set_xticks([0, 1])
ax.set_xticklabels(['No sobreviviò', 'Sobrevivió'])
plt.title('Conteo de Supervivientes y No Supervivientes')
plt.xlabel('Supervivencia')
plt.ylabel('Total de Pasajeros')

plt.show()


figure = plt.subplots(figsize = (5, 5))

ax= sns.histplot(data=df_encoding, x='Survived', hue='Pclass', multiple='dodge')
ax.set_xticks([0, 1])
ax.set_xticklabels(['No sobreviviò', 'Sobrevivió'])
plt.title('Conteo de Supervivientes y No Supervivientes')
plt.xlabel('Supervivencia')
plt.ylabel('Total de Pasajeros')

plt.show()


figure = plt.subplots(figsize = (10, 5))

ax= sns.histplot(data=df_encoding, x='Age', hue='Survived', multiple='dodge')
ax.legend(title='Supervivencia', labels=['No sobreviviò', 'Sobrevivió'])

plt.title('Conteo de Supervivientes y No Supervivientes')
plt.xlabel('Edad')
plt.ylabel('Total de Pasajeros')

plt.show()


df_new = df_encoding.select_dtypes(include=['number'])



df_new





from sklearn.model_selection import train_test_split
from sklearn.preprocessing import StandardScaler

target = df_new['Survived']
X = df_new.drop(columns='Survived')

X_train, X_val, y_train, y_val = train_test_split(X, target, test_size=0.2, random_state=42)

print(y_train.shape, X_train.shape)


from sklearn.metrics import accuracy_score
from sklearn.linear_model import LogisticRegression

logistic_model = LogisticRegression(max_iter=500)
logistic_model.fit(X_train, y_train)
y_pred_logistic = logistic_model.predict(X_val)

logisctic_accuracy = accuracy_score(y_val, y_pred_logistic)

print("Logistic Regression Accuracy:", logisctic_accuracy)


from sklearn.ensemble import RandomForestClassifier

rf_model= RandomForestClassifier()
rf_model.fit(X_train, y_train)
y_pred_rf = rf_model.predict(X_val)

rf_accuracy = accuracy_score(y_val, y_pred_rf)
print("RandomForestClassifier:", rf_accuracy)


from sklearn.model_selection import GridSearchCV
param_grid={
    'penalty': ['elasticnet'],  # Tipo de penalización
    'C': [0.01, 0.1, 1],  # Parámetro de regularización
    'solver': ['saga'],  # Algoritmos de optimización
    'max_iter' : [10000],
    'l1_ratio': [0.2, 0.5, 0.7]  # Solo para elasticnet, controla la mezcla L1/L2
}


grid_search = GridSearchCV(logistic_model, param_grid, cv=5, scoring='accuracy')

grid_search.fit(X, target)

print("Mejores parámetros:", grid_search.best_params_)

predictions = grid_search.predict(X_val)


best_model = grid_search.best_estimator_


from sklearn.model_selection import cross_val_score
models = [
  ("Logistic Regression", LogisticRegression(max_iter=800)),
  ("Random Forest", RandomForestClassifier())
]

for name, model in models:
    scores = cross_val_score(model, X, target, cv=5) 
    print(f"{name} Average Accuracy: {scores.mean():.2f} (+/- {scores.std() * 2:.2f})")





from sklearn.preprocessing import OrdinalEncoder


encoder = OrdinalEncoder()

test = pd.read_csv('Dataset/test.csv')

test['Sex'] = test['Sex'].map({'female':1, 'male':0}).astype(int)

train_data = test.dropna(subset=['Age'])
X_train = train_data[['Pclass']] 
y_train = train_data['Age'] 


model = LinearRegression()
model.fit(X_train, y_train)


missing_data2 = test[test['Age'].isna()]
X_missing2 = missing_data2[['Pclass']]
test.loc[test['Age'].isna(), 'Age'] = model.predict(X_missing2)

test_encoding = pd.get_dummies(test, columns =['Embarked'], drop_first=True,  dtype='int')

test_1 = test_encoding.select_dtypes(include=['number'])
test_1['Fare'] = test_1['Fare'].fillna(test_1['Fare'].median())

y_pred = best_model.predict(test_1)
y_pred

y_pred.shape, test_1.shape



# prediciendo sobre el test set
print(y_pred_logistic[0:20])
# para descargar en ordenador
def download_output(y_pred, name):
  output = pd.DataFrame({'PassengerId': test_1.PassengerId, 
                         'Survived': y_pred})
  output.to_csv(name, index=False)
download_output(y_pred, 'ml_prediction.csv')



