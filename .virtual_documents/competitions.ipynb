import pandas as pd
import seaborn as sns
import matplotlib.pyplot as plt


df = pd.read_csv('Dataset/train.csv')
df.head()


df.describe()


df.info()


df = df.drop_duplicates()
df.describe(include=['object'])


df.head()


df['Sex'] = df['Sex'].map({'female':1, 'male':0}).astype(int)
df['Sex'].head()


numeric_columns = df.select_dtypes(include=['number'])

corr= numeric_columns.corr()

sns.heatmap(corr, annot=True, cmap='coolwarm',fmt='.1f')


from sklearn.linear_model import LinearRegression


train_data = df.dropna(subset=['Age'])
X_train = train_data[['Pclass']] 
y_train = train_data['Age'] 


model = LinearRegression()
model.fit(X_train, y_train)


missing_data = df[df['Age'].isna()]
X_missing = missing_data[['Pclass']]
df.loc[df['Age'].isna(), 'Age'] = model.predict(X_missing)


df.info()


df_encoding = pd.get_dummies(df, columns =['Embarked'], drop_first=True)
df_encoding


df['Ticket_prefix'] = df['Ticket'].str.extract('([A-Za-z]+)')

# Visualiza cómo los tickets con el mismo prefijo se distribuyen en cuanto a 'Fare'
import seaborn as sns
figure = plt.subplots(figsize=(20,10))
sns.boxplot(x='Ticket_prefix', y='Fare', data=df)
